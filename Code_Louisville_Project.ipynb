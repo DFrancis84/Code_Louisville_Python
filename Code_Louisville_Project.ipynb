{
 "cells": [
  {
   "cell_type": "code",
   "execution_count": 1,
   "metadata": {
    "slideshow": {
     "slide_type": "skip"
    }
   },
   "outputs": [
    {
     "data": {
      "text/html": [
       "\n",
       "<style>\n",
       ".output_png {\n",
       "    display: table-cell;\n",
       "    text-align: center;\n",
       "    vertical-align: middle;\n",
       "}\n",
       "</style>\n"
      ],
      "text/plain": [
       "<IPython.core.display.HTML object>"
      ]
     },
     "execution_count": 1,
     "metadata": {},
     "output_type": "execute_result"
    }
   ],
   "source": [
    "from IPython.core.display import HTML\n",
    "HTML(\"\"\"\n",
    "<style>\n",
    ".output_png {\n",
    "    display: table-cell;\n",
    "    text-align: center;\n",
    "    vertical-align: middle;\n",
    "}\n",
    "</style>\n",
    "\"\"\")"
   ]
  },
  {
   "cell_type": "code",
   "execution_count": 2,
   "metadata": {
    "slideshow": {
     "slide_type": "skip"
    }
   },
   "outputs": [
    {
     "data": {
      "text/html": [
       "<script>\n",
       "  function code_toggle() {\n",
       "    if (code_shown){\n",
       "      $('div.input').hide('500');\n",
       "      $('#toggleButton').val('Show Code')\n",
       "    } else {\n",
       "      $('div.input').show('500');\n",
       "      $('#toggleButton').val('Hide Code')\n",
       "    }\n",
       "    code_shown = !code_shown\n",
       "  }\n",
       "\n",
       "  $( document ).ready(function(){\n",
       "    code_shown=false;\n",
       "    $('div.input').hide()\n",
       "  });\n",
       "</script>\n",
       "<form action=\"javascript:code_toggle()\"><input type=\"submit\" id=\"toggleButton\" value=\"Show Code\"></form>"
      ],
      "text/plain": [
       "<IPython.core.display.HTML object>"
      ]
     },
     "execution_count": 2,
     "metadata": {},
     "output_type": "execute_result"
    }
   ],
   "source": [
    "from IPython.display import display_html, HTML, Image\n",
    "HTML('''<script>\n",
    "  function code_toggle() {\n",
    "    if (code_shown){\n",
    "      $('div.input').hide('500');\n",
    "      $('#toggleButton').val('Show Code')\n",
    "    } else {\n",
    "      $('div.input').show('500');\n",
    "      $('#toggleButton').val('Hide Code')\n",
    "    }\n",
    "    code_shown = !code_shown\n",
    "  }\n",
    "\n",
    "  $( document ).ready(function(){\n",
    "    code_shown=false;\n",
    "    $('div.input').hide()\n",
    "  });\n",
    "</script>\n",
    "<form action=\"javascript:code_toggle()\"><input type=\"submit\" id=\"toggleButton\" value=\"Show Code\"></form>''')\n"
   ]
  },
  {
   "cell_type": "code",
   "execution_count": 3,
   "metadata": {
    "slideshow": {
     "slide_type": "skip"
    }
   },
   "outputs": [],
   "source": [
    "# importing packages and other items used\n",
    "import sqlite3\n",
    "import pandas as pd\n",
    "import numpy as np\n",
    "import matplotlib.pyplot as plt\n",
    "%matplotlib inline\n",
    "conn = sqlite3.connect('MLB_Data.db')"
   ]
  },
  {
   "cell_type": "code",
   "execution_count": 4,
   "metadata": {
    "slideshow": {
     "slide_type": "skip"
    }
   },
   "outputs": [],
   "source": [
    "# allows tables to be printed side by side.. i.e. comparing between LHP/RHP\n",
    "def display_side_by_side(*args):\n",
    "    html_str=''\n",
    "    for df in args:\n",
    "        html_str+=df.to_html()\n",
    "    display_html(html_str.replace('table', \n",
    "            'table style=\"display:inline\"'),raw=True)"
   ]
  },
  {
   "cell_type": "code",
   "execution_count": 5,
   "metadata": {
    "slideshow": {
     "slide_type": "skip"
    }
   },
   "outputs": [],
   "source": [
    "# created tables to use for graphing Avg runs against LHP/RHP\n",
    "conn = sqlite3.connect(\"MLB_Data.db\")\n",
    "cur = conn.cursor()\n",
    "#---------------------------------------------------------------------#\n",
    "cur.execute('''DROP TABLE IF EXISTS [RHP_RvsAB]''')\n",
    "cur.execute('''DROP TABLE IF EXISTS [LHP_RvsAB]''')\n",
    "cur.execute('''CREATE TABLE RHP_RvsAB(teams, ab, r)''')\n",
    "cur.execute('''CREATE TABLE LHP_RvsAB(teams, ab, r)''')\n",
    "cur.execute(\"INSERT INTO RHP_RvsAB VALUES ('30', '123020', '17004')\")\n",
    "cur.execute(\"INSERT INTO LHP_RvsAB VALUES ('30', '42547', '5578')\")\n",
    "\n",
    "\n",
    "conn.commit()\n",
    "conn.close()"
   ]
  },
  {
   "cell_type": "code",
   "execution_count": 6,
   "metadata": {
    "scrolled": true,
    "slideshow": {
     "slide_type": "skip"
    }
   },
   "outputs": [],
   "source": [
    "# setting league averages for each option\n",
    "leagueAVGRHP = 0.254867\n",
    "leagueRunAvgRHP = 1.854\n",
    "leagueAVGLHP = 0.255\n",
    "leagueRunAvgLHP = 1.956"
   ]
  },
  {
   "cell_type": "code",
   "execution_count": 7,
   "metadata": {
    "slideshow": {
     "slide_type": "skip"
    }
   },
   "outputs": [],
   "source": [
    "# set func with total runs scored against each Pitcher\n",
    "conn = sqlite3.connect(\"MLB_Data.db\")\n",
    "cur = conn.cursor()\n",
    "\n",
    "sql_averageLHP = \"SELECT * FROM MLB_vs_LHP_2017\"\n",
    "averageLHP = pd.read_sql_query(sql_averageLHP, conn)\n",
    "#----------------------------------------------------#\n",
    "sql_averageRHP = \"SELECT * FROM MLB_vs_RHP_2017\"\n",
    "averageRHP = pd.read_sql_query(sql_averageRHP, conn)\n",
    "#----------------------------------------------------#\n",
    "RHPruns = sum(averageRHP['R'])\n",
    "RHPab = sum(averageRHP['AB'])\n",
    "RHPavg = RHPab/RHPruns\n",
    "LHPruns = sum(averageLHP['R'])\n",
    "LHPab = sum(averageLHP['AB'])\n",
    "LHPavg = LHPab/LHPruns"
   ]
  },
  {
   "cell_type": "markdown",
   "metadata": {
    "slideshow": {
     "slide_type": "slide"
    }
   },
   "source": [
    "# Code Louisville 2018 - Python Project\n",
    "## Is a Left-Handed Pitcher better than a Right-Handed Pitcher\n",
    "#### Created By Devin Francis"
   ]
  },
  {
   "cell_type": "markdown",
   "metadata": {
    "slideshow": {
     "slide_type": "slide"
    }
   },
   "source": [
    "<table><tr><td><img src='img/LHP.jpeg'></td><td><img src='img/RHP.jpeg'></td></tr></table>\n",
    "## Is a Left-Handed Pitcher better than a Right-Handed Pitcher?\n",
    "The rumor is that a Left-Handed Pitcher is better than a Right-Handed Pitcher. This stems from the theory that when a pitcher and batter share the same dominant hand (i.e. Right-Handed Pitcher vs Right-Handed Batter), that the Pitcher gets the advantage.  Since there are less left-handed batters in the MLB, the theory is born.  I have decided to take data from the 2017 season and put that theory to the test. "
   ]
  },
  {
   "cell_type": "markdown",
   "metadata": {
    "slideshow": {
     "slide_type": "slide"
    }
   },
   "source": [
    "#### The first thing that I did was gather all the data from 2017 in regards to stats against Left-Handed Pitchers.  Here is the stats for each team against LHP.  I have displayed the Top 5 and Bottom 5 teams."
   ]
  },
  {
   "cell_type": "code",
   "execution_count": 8,
   "metadata": {
    "scrolled": true,
    "slideshow": {
     "slide_type": "fragment"
    }
   },
   "outputs": [
    {
     "data": {
      "text/html": [
       "<table style=\"display:inline\" border=\"1\" class=\"dataframe\">\n",
       "  <thead>\n",
       "    <tr style=\"text-align: right;\">\n",
       "      <th></th>\n",
       "      <th>RK</th>\n",
       "      <th>TEAM</th>\n",
       "      <th>GP</th>\n",
       "      <th>AB</th>\n",
       "      <th>R</th>\n",
       "      <th>H</th>\n",
       "      <th>2B</th>\n",
       "      <th>3B</th>\n",
       "      <th>HR</th>\n",
       "      <th>TB</th>\n",
       "      <th>RBI</th>\n",
       "      <th>AVG</th>\n",
       "      <th>OBP</th>\n",
       "      <th>SLG</th>\n",
       "      <th>OPS</th>\n",
       "    </tr>\n",
       "  </thead>\n",
       "  <tbody>\n",
       "    <tr>\n",
       "      <th>0</th>\n",
       "      <td>1</td>\n",
       "      <td>CLE</td>\n",
       "      <td>140</td>\n",
       "      <td>1926</td>\n",
       "      <td>280</td>\n",
       "      <td>520</td>\n",
       "      <td>106</td>\n",
       "      <td>7</td>\n",
       "      <td>71</td>\n",
       "      <td>853</td>\n",
       "      <td>267</td>\n",
       "      <td>0.270</td>\n",
       "      <td>0.351</td>\n",
       "      <td>0.443</td>\n",
       "      <td>0.794</td>\n",
       "    </tr>\n",
       "    <tr>\n",
       "      <th>1</th>\n",
       "      <td>2</td>\n",
       "      <td>COL</td>\n",
       "      <td>129</td>\n",
       "      <td>1554</td>\n",
       "      <td>241</td>\n",
       "      <td>436</td>\n",
       "      <td>89</td>\n",
       "      <td>10</td>\n",
       "      <td>62</td>\n",
       "      <td>731</td>\n",
       "      <td>232</td>\n",
       "      <td>0.281</td>\n",
       "      <td>0.344</td>\n",
       "      <td>0.470</td>\n",
       "      <td>0.814</td>\n",
       "    </tr>\n",
       "    <tr>\n",
       "      <th>2</th>\n",
       "      <td>3</td>\n",
       "      <td>LAD</td>\n",
       "      <td>133</td>\n",
       "      <td>1571</td>\n",
       "      <td>227</td>\n",
       "      <td>398</td>\n",
       "      <td>97</td>\n",
       "      <td>6</td>\n",
       "      <td>65</td>\n",
       "      <td>702</td>\n",
       "      <td>222</td>\n",
       "      <td>0.253</td>\n",
       "      <td>0.342</td>\n",
       "      <td>0.447</td>\n",
       "      <td>0.789</td>\n",
       "    </tr>\n",
       "    <tr>\n",
       "      <th>3</th>\n",
       "      <td>4</td>\n",
       "      <td>MIN</td>\n",
       "      <td>132</td>\n",
       "      <td>1602</td>\n",
       "      <td>224</td>\n",
       "      <td>416</td>\n",
       "      <td>87</td>\n",
       "      <td>8</td>\n",
       "      <td>47</td>\n",
       "      <td>660</td>\n",
       "      <td>218</td>\n",
       "      <td>0.260</td>\n",
       "      <td>0.332</td>\n",
       "      <td>0.412</td>\n",
       "      <td>0.744</td>\n",
       "    </tr>\n",
       "    <tr>\n",
       "      <th>4</th>\n",
       "      <td>5</td>\n",
       "      <td>HOU</td>\n",
       "      <td>117</td>\n",
       "      <td>1426</td>\n",
       "      <td>212</td>\n",
       "      <td>396</td>\n",
       "      <td>80</td>\n",
       "      <td>6</td>\n",
       "      <td>59</td>\n",
       "      <td>665</td>\n",
       "      <td>200</td>\n",
       "      <td>0.278</td>\n",
       "      <td>0.348</td>\n",
       "      <td>0.466</td>\n",
       "      <td>0.814</td>\n",
       "    </tr>\n",
       "  </tbody>\n",
       "</table style=\"display:inline\"><table style=\"display:inline\" border=\"1\" class=\"dataframe\">\n",
       "  <thead>\n",
       "    <tr style=\"text-align: right;\">\n",
       "      <th></th>\n",
       "      <th>RK</th>\n",
       "      <th>TEAM</th>\n",
       "      <th>GP</th>\n",
       "      <th>AB</th>\n",
       "      <th>R</th>\n",
       "      <th>H</th>\n",
       "      <th>2B</th>\n",
       "      <th>3B</th>\n",
       "      <th>HR</th>\n",
       "      <th>TB</th>\n",
       "      <th>RBI</th>\n",
       "      <th>AVG</th>\n",
       "      <th>OBP</th>\n",
       "      <th>SLG</th>\n",
       "      <th>OPS</th>\n",
       "    </tr>\n",
       "  </thead>\n",
       "  <tbody>\n",
       "    <tr>\n",
       "      <th>25</th>\n",
       "      <td>26</td>\n",
       "      <td>OAK</td>\n",
       "      <td>130</td>\n",
       "      <td>1355</td>\n",
       "      <td>161</td>\n",
       "      <td>319</td>\n",
       "      <td>71</td>\n",
       "      <td>4</td>\n",
       "      <td>44</td>\n",
       "      <td>530</td>\n",
       "      <td>152</td>\n",
       "      <td>0.235</td>\n",
       "      <td>0.313</td>\n",
       "      <td>0.391</td>\n",
       "      <td>0.704</td>\n",
       "    </tr>\n",
       "    <tr>\n",
       "      <th>26</th>\n",
       "      <td>27</td>\n",
       "      <td>STL</td>\n",
       "      <td>116</td>\n",
       "      <td>1179</td>\n",
       "      <td>160</td>\n",
       "      <td>298</td>\n",
       "      <td>56</td>\n",
       "      <td>8</td>\n",
       "      <td>50</td>\n",
       "      <td>520</td>\n",
       "      <td>153</td>\n",
       "      <td>0.253</td>\n",
       "      <td>0.336</td>\n",
       "      <td>0.441</td>\n",
       "      <td>0.777</td>\n",
       "    </tr>\n",
       "    <tr>\n",
       "      <th>27</th>\n",
       "      <td>28</td>\n",
       "      <td>SD</td>\n",
       "      <td>117</td>\n",
       "      <td>1444</td>\n",
       "      <td>150</td>\n",
       "      <td>327</td>\n",
       "      <td>60</td>\n",
       "      <td>6</td>\n",
       "      <td>52</td>\n",
       "      <td>555</td>\n",
       "      <td>146</td>\n",
       "      <td>0.226</td>\n",
       "      <td>0.294</td>\n",
       "      <td>0.384</td>\n",
       "      <td>0.679</td>\n",
       "    </tr>\n",
       "    <tr>\n",
       "      <th>28</th>\n",
       "      <td>29</td>\n",
       "      <td>LAA</td>\n",
       "      <td>118</td>\n",
       "      <td>1375</td>\n",
       "      <td>149</td>\n",
       "      <td>317</td>\n",
       "      <td>54</td>\n",
       "      <td>5</td>\n",
       "      <td>30</td>\n",
       "      <td>471</td>\n",
       "      <td>139</td>\n",
       "      <td>0.231</td>\n",
       "      <td>0.306</td>\n",
       "      <td>0.343</td>\n",
       "      <td>0.649</td>\n",
       "    </tr>\n",
       "    <tr>\n",
       "      <th>29</th>\n",
       "      <td>30</td>\n",
       "      <td>TOR</td>\n",
       "      <td>118</td>\n",
       "      <td>1256</td>\n",
       "      <td>143</td>\n",
       "      <td>307</td>\n",
       "      <td>71</td>\n",
       "      <td>0</td>\n",
       "      <td>45</td>\n",
       "      <td>513</td>\n",
       "      <td>137</td>\n",
       "      <td>0.244</td>\n",
       "      <td>0.324</td>\n",
       "      <td>0.408</td>\n",
       "      <td>0.733</td>\n",
       "    </tr>\n",
       "  </tbody>\n",
       "</table style=\"display:inline\">"
      ]
     },
     "metadata": {},
     "output_type": "display_data"
    }
   ],
   "source": [
    "display_side_by_side(averageLHP.head(), averageLHP.tail())"
   ]
  },
  {
   "cell_type": "markdown",
   "metadata": {
    "slideshow": {
     "slide_type": "slide"
    }
   },
   "source": [
    "#### I did the same thing for the data against RHP.  "
   ]
  },
  {
   "cell_type": "code",
   "execution_count": 9,
   "metadata": {
    "scrolled": false,
    "slideshow": {
     "slide_type": "fragment"
    }
   },
   "outputs": [
    {
     "data": {
      "text/html": [
       "<table style=\"display:inline\" border=\"1\" class=\"dataframe\">\n",
       "  <thead>\n",
       "    <tr style=\"text-align: right;\">\n",
       "      <th></th>\n",
       "      <th>RK</th>\n",
       "      <th>TEAM</th>\n",
       "      <th>GP</th>\n",
       "      <th>AB</th>\n",
       "      <th>R</th>\n",
       "      <th>H</th>\n",
       "      <th>2B</th>\n",
       "      <th>3B</th>\n",
       "      <th>HR</th>\n",
       "      <th>TB</th>\n",
       "      <th>RBI</th>\n",
       "      <th>AVG</th>\n",
       "      <th>OBP</th>\n",
       "      <th>SLG</th>\n",
       "      <th>OPS</th>\n",
       "    </tr>\n",
       "  </thead>\n",
       "  <tbody>\n",
       "    <tr>\n",
       "      <th>0</th>\n",
       "      <td>1</td>\n",
       "      <td>HOU</td>\n",
       "      <td>162</td>\n",
       "      <td>4185</td>\n",
       "      <td>684</td>\n",
       "      <td>1185</td>\n",
       "      <td>266</td>\n",
       "      <td>14</td>\n",
       "      <td>179</td>\n",
       "      <td>2016</td>\n",
       "      <td>654</td>\n",
       "      <td>0.283</td>\n",
       "      <td>0.345</td>\n",
       "      <td>0.482</td>\n",
       "      <td>0.827</td>\n",
       "    </tr>\n",
       "    <tr>\n",
       "      <th>1</th>\n",
       "      <td>2</td>\n",
       "      <td>NYY</td>\n",
       "      <td>162</td>\n",
       "      <td>4146</td>\n",
       "      <td>660</td>\n",
       "      <td>1093</td>\n",
       "      <td>202</td>\n",
       "      <td>16</td>\n",
       "      <td>185</td>\n",
       "      <td>1882</td>\n",
       "      <td>634</td>\n",
       "      <td>0.264</td>\n",
       "      <td>0.341</td>\n",
       "      <td>0.454</td>\n",
       "      <td>0.795</td>\n",
       "    </tr>\n",
       "    <tr>\n",
       "      <th>2</th>\n",
       "      <td>3</td>\n",
       "      <td>WAS</td>\n",
       "      <td>162</td>\n",
       "      <td>4326</td>\n",
       "      <td>650</td>\n",
       "      <td>1139</td>\n",
       "      <td>241</td>\n",
       "      <td>23</td>\n",
       "      <td>170</td>\n",
       "      <td>1936</td>\n",
       "      <td>631</td>\n",
       "      <td>0.263</td>\n",
       "      <td>0.332</td>\n",
       "      <td>0.448</td>\n",
       "      <td>0.780</td>\n",
       "    </tr>\n",
       "    <tr>\n",
       "      <th>3</th>\n",
       "      <td>4</td>\n",
       "      <td>CHI</td>\n",
       "      <td>161</td>\n",
       "      <td>4115</td>\n",
       "      <td>622</td>\n",
       "      <td>1038</td>\n",
       "      <td>218</td>\n",
       "      <td>20</td>\n",
       "      <td>172</td>\n",
       "      <td>1812</td>\n",
       "      <td>594</td>\n",
       "      <td>0.252</td>\n",
       "      <td>0.334</td>\n",
       "      <td>0.440</td>\n",
       "      <td>0.774</td>\n",
       "    </tr>\n",
       "    <tr>\n",
       "      <th>4</th>\n",
       "      <td>5</td>\n",
       "      <td>BOS</td>\n",
       "      <td>162</td>\n",
       "      <td>4435</td>\n",
       "      <td>617</td>\n",
       "      <td>1132</td>\n",
       "      <td>231</td>\n",
       "      <td>15</td>\n",
       "      <td>137</td>\n",
       "      <td>1804</td>\n",
       "      <td>577</td>\n",
       "      <td>0.255</td>\n",
       "      <td>0.323</td>\n",
       "      <td>0.407</td>\n",
       "      <td>0.729</td>\n",
       "    </tr>\n",
       "  </tbody>\n",
       "</table style=\"display:inline\"><table style=\"display:inline\" border=\"1\" class=\"dataframe\">\n",
       "  <thead>\n",
       "    <tr style=\"text-align: right;\">\n",
       "      <th></th>\n",
       "      <th>RK</th>\n",
       "      <th>TEAM</th>\n",
       "      <th>GP</th>\n",
       "      <th>AB</th>\n",
       "      <th>R</th>\n",
       "      <th>H</th>\n",
       "      <th>2B</th>\n",
       "      <th>3B</th>\n",
       "      <th>HR</th>\n",
       "      <th>TB</th>\n",
       "      <th>RBI</th>\n",
       "      <th>AVG</th>\n",
       "      <th>OBP</th>\n",
       "      <th>SLG</th>\n",
       "      <th>OPS</th>\n",
       "    </tr>\n",
       "  </thead>\n",
       "  <tbody>\n",
       "    <tr>\n",
       "      <th>25</th>\n",
       "      <td>26</td>\n",
       "      <td>CWS</td>\n",
       "      <td>160</td>\n",
       "      <td>4056</td>\n",
       "      <td>506</td>\n",
       "      <td>1004</td>\n",
       "      <td>185</td>\n",
       "      <td>24</td>\n",
       "      <td>141</td>\n",
       "      <td>1660</td>\n",
       "      <td>478</td>\n",
       "      <td>0.248</td>\n",
       "      <td>0.307</td>\n",
       "      <td>0.409</td>\n",
       "      <td>0.716</td>\n",
       "    </tr>\n",
       "    <tr>\n",
       "      <th>26</th>\n",
       "      <td>27</td>\n",
       "      <td>PHI</td>\n",
       "      <td>158</td>\n",
       "      <td>3972</td>\n",
       "      <td>506</td>\n",
       "      <td>1018</td>\n",
       "      <td>210</td>\n",
       "      <td>24</td>\n",
       "      <td>126</td>\n",
       "      <td>1654</td>\n",
       "      <td>480</td>\n",
       "      <td>0.256</td>\n",
       "      <td>0.319</td>\n",
       "      <td>0.416</td>\n",
       "      <td>0.736</td>\n",
       "    </tr>\n",
       "    <tr>\n",
       "      <th>27</th>\n",
       "      <td>28</td>\n",
       "      <td>PIT</td>\n",
       "      <td>159</td>\n",
       "      <td>4168</td>\n",
       "      <td>502</td>\n",
       "      <td>1016</td>\n",
       "      <td>195</td>\n",
       "      <td>27</td>\n",
       "      <td>112</td>\n",
       "      <td>1601</td>\n",
       "      <td>474</td>\n",
       "      <td>0.244</td>\n",
       "      <td>0.318</td>\n",
       "      <td>0.384</td>\n",
       "      <td>0.702</td>\n",
       "    </tr>\n",
       "    <tr>\n",
       "      <th>28</th>\n",
       "      <td>29</td>\n",
       "      <td>SF</td>\n",
       "      <td>160</td>\n",
       "      <td>3893</td>\n",
       "      <td>460</td>\n",
       "      <td>964</td>\n",
       "      <td>203</td>\n",
       "      <td>24</td>\n",
       "      <td>95</td>\n",
       "      <td>1500</td>\n",
       "      <td>437</td>\n",
       "      <td>0.248</td>\n",
       "      <td>0.307</td>\n",
       "      <td>0.385</td>\n",
       "      <td>0.693</td>\n",
       "    </tr>\n",
       "    <tr>\n",
       "      <th>29</th>\n",
       "      <td>30</td>\n",
       "      <td>SD</td>\n",
       "      <td>161</td>\n",
       "      <td>3912</td>\n",
       "      <td>454</td>\n",
       "      <td>924</td>\n",
       "      <td>167</td>\n",
       "      <td>25</td>\n",
       "      <td>137</td>\n",
       "      <td>1552</td>\n",
       "      <td>430</td>\n",
       "      <td>0.236</td>\n",
       "      <td>0.301</td>\n",
       "      <td>0.397</td>\n",
       "      <td>0.697</td>\n",
       "    </tr>\n",
       "  </tbody>\n",
       "</table style=\"display:inline\">"
      ]
     },
     "metadata": {},
     "output_type": "display_data"
    }
   ],
   "source": [
    "display_side_by_side(averageRHP.head(), averageRHP.tail())"
   ]
  },
  {
   "cell_type": "code",
   "execution_count": 10,
   "metadata": {},
   "outputs": [],
   "source": [
    "# sets up table displaying a teams AVG to RUNS ratio\n",
    "teamsRunsvsAVGLHP = averageLHP[['TEAM', 'AVG','H', 'R']]\n",
    "teamsRunsvsAVGRHP = averageRHP[['TEAM', 'AVG', 'H', 'R']]"
   ]
  },
  {
   "cell_type": "markdown",
   "metadata": {
    "slideshow": {
     "slide_type": "slide"
    }
   },
   "source": [
    "#### The next step is to condense the data down for the first part.  To see the difference in batting averages against each opposing pitcher."
   ]
  },
  {
   "cell_type": "markdown",
   "metadata": {
    "slideshow": {
     "slide_type": "fragment"
    }
   },
   "source": [
    "#### First, we get the data against LHP:"
   ]
  },
  {
   "cell_type": "code",
   "execution_count": 11,
   "metadata": {
    "slideshow": {
     "slide_type": "fragment"
    }
   },
   "outputs": [
    {
     "data": {
      "text/html": [
       "<table style=\"display:inline\" border=\"1\" class=\"dataframe\">\n",
       "  <thead>\n",
       "    <tr style=\"text-align: right;\">\n",
       "      <th></th>\n",
       "      <th>AVG</th>\n",
       "      <th>H</th>\n",
       "      <th>R</th>\n",
       "    </tr>\n",
       "  </thead>\n",
       "  <tbody>\n",
       "    <tr>\n",
       "      <th>count</th>\n",
       "      <td>30.000000</td>\n",
       "      <td>30.000000</td>\n",
       "      <td>30.000000</td>\n",
       "    </tr>\n",
       "    <tr>\n",
       "      <th>mean</th>\n",
       "      <td>0.255000</td>\n",
       "      <td>361.600000</td>\n",
       "      <td>185.933333</td>\n",
       "    </tr>\n",
       "    <tr>\n",
       "      <th>std</th>\n",
       "      <td>0.015559</td>\n",
       "      <td>46.749221</td>\n",
       "      <td>28.979105</td>\n",
       "    </tr>\n",
       "    <tr>\n",
       "      <th>min</th>\n",
       "      <td>0.226000</td>\n",
       "      <td>298.000000</td>\n",
       "      <td>143.000000</td>\n",
       "    </tr>\n",
       "    <tr>\n",
       "      <th>25%</th>\n",
       "      <td>0.244000</td>\n",
       "      <td>327.500000</td>\n",
       "      <td>168.250000</td>\n",
       "    </tr>\n",
       "    <tr>\n",
       "      <th>50%</th>\n",
       "      <td>0.253000</td>\n",
       "      <td>359.000000</td>\n",
       "      <td>179.500000</td>\n",
       "    </tr>\n",
       "    <tr>\n",
       "      <th>75%</th>\n",
       "      <td>0.266250</td>\n",
       "      <td>386.500000</td>\n",
       "      <td>199.500000</td>\n",
       "    </tr>\n",
       "    <tr>\n",
       "      <th>max</th>\n",
       "      <td>0.281000</td>\n",
       "      <td>520.000000</td>\n",
       "      <td>280.000000</td>\n",
       "    </tr>\n",
       "  </tbody>\n",
       "</table style=\"display:inline\">"
      ]
     },
     "metadata": {},
     "output_type": "display_data"
    }
   ],
   "source": [
    "display_side_by_side(teamsRunsvsAVGLHP.describe())"
   ]
  },
  {
   "cell_type": "markdown",
   "metadata": {
    "slideshow": {
     "slide_type": "fragment"
    }
   },
   "source": [
    "#### Then we get the data against RHP:"
   ]
  },
  {
   "cell_type": "code",
   "execution_count": 12,
   "metadata": {
    "scrolled": true,
    "slideshow": {
     "slide_type": "fragment"
    }
   },
   "outputs": [
    {
     "data": {
      "text/html": [
       "<table style=\"display:inline\" border=\"1\" class=\"dataframe\">\n",
       "  <thead>\n",
       "    <tr style=\"text-align: right;\">\n",
       "      <th></th>\n",
       "      <th>AVG</th>\n",
       "      <th>H</th>\n",
       "      <th>R</th>\n",
       "    </tr>\n",
       "  </thead>\n",
       "  <tbody>\n",
       "    <tr>\n",
       "      <th>count</th>\n",
       "      <td>30.000000</td>\n",
       "      <td>30.000000</td>\n",
       "      <td>30.000000</td>\n",
       "    </tr>\n",
       "    <tr>\n",
       "      <th>mean</th>\n",
       "      <td>0.254867</td>\n",
       "      <td>1045.566667</td>\n",
       "      <td>566.800000</td>\n",
       "    </tr>\n",
       "    <tr>\n",
       "      <th>std</th>\n",
       "      <td>0.009839</td>\n",
       "      <td>66.276164</td>\n",
       "      <td>54.323044</td>\n",
       "    </tr>\n",
       "    <tr>\n",
       "      <th>min</th>\n",
       "      <td>0.236000</td>\n",
       "      <td>924.000000</td>\n",
       "      <td>454.000000</td>\n",
       "    </tr>\n",
       "    <tr>\n",
       "      <th>25%</th>\n",
       "      <td>0.248000</td>\n",
       "      <td>1006.250000</td>\n",
       "      <td>539.250000</td>\n",
       "    </tr>\n",
       "    <tr>\n",
       "      <th>50%</th>\n",
       "      <td>0.255500</td>\n",
       "      <td>1035.000000</td>\n",
       "      <td>564.000000</td>\n",
       "    </tr>\n",
       "    <tr>\n",
       "      <th>75%</th>\n",
       "      <td>0.260750</td>\n",
       "      <td>1093.750000</td>\n",
       "      <td>601.000000</td>\n",
       "    </tr>\n",
       "    <tr>\n",
       "      <th>max</th>\n",
       "      <td>0.283000</td>\n",
       "      <td>1185.000000</td>\n",
       "      <td>684.000000</td>\n",
       "    </tr>\n",
       "  </tbody>\n",
       "</table style=\"display:inline\">"
      ]
     },
     "metadata": {},
     "output_type": "display_data"
    }
   ],
   "source": [
    "display_side_by_side(teamsRunsvsAVGRHP.describe())"
   ]
  },
  {
   "cell_type": "markdown",
   "metadata": {
    "slideshow": {
     "slide_type": "fragment"
    }
   },
   "source": [
    "#### As we can see, the average batting average against each opposing pitcher isn't too far off. There is a difference of 0.001."
   ]
  },
  {
   "cell_type": "markdown",
   "metadata": {
    "slideshow": {
     "slide_type": "slide"
    }
   },
   "source": [
    "#### Digging deeper into the theory, the below chart shows each teams batting average in comparison to the league's average against LHP.  "
   ]
  },
  {
   "cell_type": "code",
   "execution_count": 13,
   "metadata": {
    "scrolled": false,
    "slideshow": {
     "slide_type": "fragment"
    }
   },
   "outputs": [
    {
     "data": {
      "image/png": "[encoded data removed]",
      "text/plain": [
       "<matplotlib.figure.Figure at 0x7f1abefb3a90>"
      ]
     },
     "metadata": {},
     "output_type": "display_data"
    }
   ],
   "source": [
    "# creates BAR GRAPH for averages against LHP  \n",
    "conn = sqlite3.connect(\"MLB_Data.db\")\n",
    "cur = conn.cursor()\n",
    "#---------------------------------------------------------------#\n",
    "sql_teamsAVGvsLHP = \"SELECT TEAM, AVG, OBP, SLG FROM MLB_vs_LHP_2017\"\n",
    "teamsAVGvsLHP = pd.read_sql_query(sql_teamsAVGvsLHP, conn)\n",
    "#---------------------------------------------------------------#\n",
    "plt.figure(figsize=(40,10))\n",
    "plt.title('MLB Teams Batting Average against LHP')\n",
    "plt.xlabel('MLB Teams')\n",
    "plt.ylabel('AVG vs LHP')\n",
    "plt.axhline(leagueAVGLHP, color='k', lw='3', ls='-',\n",
    "           label='League Average Batting AVG vs LHP')\n",
    "plt.bar(teamsAVGvsLHP['TEAM'], teamsAVGvsLHP['AVG'], color='r', label='Teams Batting AVG')\n",
    "plt.legend(fontsize='x-large');"
   ]
  },
  {
   "cell_type": "markdown",
   "metadata": {
    "slideshow": {
     "slide_type": "fragment"
    }
   },
   "source": [
    "#### Of the 30 teams in the MLB, only 13 teams hit above the leage average against LHP.  But, it looks like at least 11 of those teams hit *well* over the average."
   ]
  },
  {
   "cell_type": "markdown",
   "metadata": {
    "slideshow": {
     "slide_type": "slide"
    }
   },
   "source": [
    "#### Using the same layout as before.  I graphed the batting averages of each MLB team against that of the leagues average against RHP."
   ]
  },
  {
   "cell_type": "code",
   "execution_count": 14,
   "metadata": {
    "scrolled": true,
    "slideshow": {
     "slide_type": "fragment"
    }
   },
   "outputs": [
    {
     "data": {
      "image/png": "[encoded data removed]",
      "text/plain": [
       "<matplotlib.figure.Figure at 0x7f1abc51ef98>"
      ]
     },
     "metadata": {},
     "output_type": "display_data"
    }
   ],
   "source": [
    "# creates BAR GRAPH for averages against RHP\n",
    "conn = sqlite3.connect(\"MLB_Data.db\")\n",
    "cur = conn.cursor()\n",
    "#---------------------------------------------------------------------#\n",
    "sql_teamsAVGvsRHP = \"SELECT TEAM, AVG, OBP, SLG FROM MLB_vs_RHP_2017\"\n",
    "teamsAVGvsRHP = pd.read_sql_query(sql_teamsAVGvsRHP, conn)\n",
    "#---------------------------------------------------------------------#\n",
    "plt.figure(figsize=(40, 10))\n",
    "plt.title('MLB Teams Batting Average against RHP')\n",
    "plt.xlabel('MLB Teams')\n",
    "plt.ylabel('AVG vs RHP')\n",
    "plt.axhline(leagueAVGRHP, color='r', lw='3', ls='-',\n",
    "           label='League Average Batting AVG vs RHP')\n",
    "plt.bar(teamsAVGvsRHP['TEAM'], teamsAVGvsRHP['AVG'], color='k', label='Teams Batting AVG')\n",
    "plt.legend(fontsize='x-large');"
   ]
  },
  {
   "cell_type": "markdown",
   "metadata": {
    "slideshow": {
     "slide_type": "fragment"
    }
   },
   "source": [
    "#### We can see that 15 teams hit above the league batting average and only 5 of those teams hit *well* above the average."
   ]
  },
  {
   "cell_type": "markdown",
   "metadata": {
    "slideshow": {
     "slide_type": "slide"
    }
   },
   "source": [
    "#### So with that information we see that against LHP:"
   ]
  },
  {
   "cell_type": "markdown",
   "metadata": {
    "slideshow": {
     "slide_type": "fragment"
    }
   },
   "source": [
    "-  13 hit above league average"
   ]
  },
  {
   "cell_type": "markdown",
   "metadata": {
    "slideshow": {
     "slide_type": "fragment"
    }
   },
   "source": [
    "-  11 of which hit **well** over the average"
   ]
  },
  {
   "cell_type": "markdown",
   "metadata": {
    "slideshow": {
     "slide_type": "fragment"
    }
   },
   "source": [
    "#### While against RHP:"
   ]
  },
  {
   "cell_type": "markdown",
   "metadata": {
    "slideshow": {
     "slide_type": "fragment"
    }
   },
   "source": [
    "-  15 hit above the league average"
   ]
  },
  {
   "cell_type": "markdown",
   "metadata": {
    "slideshow": {
     "slide_type": "fragment"
    }
   },
   "source": [
    "-  5 of which hit **well** over the average"
   ]
  },
  {
   "cell_type": "markdown",
   "metadata": {
    "slideshow": {
     "slide_type": "slide"
    }
   },
   "source": [
    "#### Utilizing that data, we get mixed answers.  While teams did hit less against LHP, more teams hit over the league average against LHP than they did RHP.  Now you have to take into consideration that there are less LHP in the MLB so there were less at-bats against them which would result in results being higher.  The next step is to compare the amount of runs scored per hit against each pitcher."
   ]
  },
  {
   "cell_type": "markdown",
   "metadata": {
    "slideshow": {
     "slide_type": "slide"
    }
   },
   "source": [
    "#### Pulling from the same data as before, we can compare teams average runs scored per hit against each pitcher.  We can also use the leagues comparitive data and establish a league average runs scored per hit.  First up is the chart against LHP."
   ]
  },
  {
   "cell_type": "code",
   "execution_count": 15,
   "metadata": {
    "scrolled": false,
    "slideshow": {
     "slide_type": "fragment"
    }
   },
   "outputs": [
    {
     "data": {
      "image/png": "[encoded data removed]",
      "text/plain": [
       "<matplotlib.figure.Figure at 0x7f1abc4c2828>"
      ]
     },
     "metadata": {},
     "output_type": "display_data"
    }
   ],
   "source": [
    "# bar graph comparing teams average runs per hit against the leagues average against LHP\n",
    "conn =sqlite3.connect(\"MLB_Data.db\")\n",
    "cur = conn.cursor()\n",
    "#-----------------------------------------------#\n",
    "sql_MLBvsLHP = \"SELECT * FROM MLBvsLHP\"\n",
    "MLBvsLHP = pd.read_sql_query(sql_MLBvsLHP, conn)\n",
    "#-----------------------------------------------#\n",
    "plt.figure(figsize=(40, 10))\n",
    "plt.title('MLB Teams Average Runs scored per Hit against LHP')\n",
    "plt.xlabel('MLB Teams')\n",
    "plt.ylabel('Average Runs per Hit')\n",
    "plt.axhline(leagueRunAvgLHP, color='k', lw='3', ls='-', label='League AVG Runs per Hit')\n",
    "plt.bar(MLBvsLHP['TEAM'], MLBvsLHP['RunRatio'], color='r', label='AVG Runs per Hit')\n",
    "plt.legend(fontsize='x-large', loc='upper left');"
   ]
  },
  {
   "cell_type": "markdown",
   "metadata": {
    "slideshow": {
     "slide_type": "fragment"
    }
   },
   "source": [
    "#### Comparing against the league average we see that 14 teams were able to score more runs per hit, of which, 8 hit *well* over the league average."
   ]
  },
  {
   "cell_type": "markdown",
   "metadata": {
    "slideshow": {
     "slide_type": "slide"
    }
   },
   "source": [
    "#### When we use the same data, and compare it against RHP..."
   ]
  },
  {
   "cell_type": "code",
   "execution_count": 16,
   "metadata": {
    "slideshow": {
     "slide_type": "fragment"
    }
   },
   "outputs": [
    {
     "data": {
      "image/png": "[encoded data removed]",
      "text/plain": [
       "<matplotlib.figure.Figure at 0x7f1abc3b5748>"
      ]
     },
     "metadata": {},
     "output_type": "display_data"
    }
   ],
   "source": [
    "# bar graph comparing teams average runs per hit against the leagues average against RHP\n",
    "conn = sqlite3.connect(\"MLB_Data.db\")\n",
    "cur = conn.cursor()\n",
    "#-----------------------------------------------#\n",
    "sql_MLBvsRHP = \"SELECT * FROM MLBvsRHP\"\n",
    "MLBvsRHP = pd.read_sql_query(sql_MLBvsRHP, conn)\n",
    "#-----------------------------------------------#\n",
    "plt.figure(figsize=(40, 10))\n",
    "plt.title('MLB Teams Average Runs scored per Hit against RHP')\n",
    "plt.xlabel('MLB Teams')\n",
    "plt.ylabel('Average Runs per Hit')\n",
    "plt.axhline(leagueRunAvgRHP, color='r', lw='3', ls='-', label='League AVG Runs per Hit')\n",
    "plt.bar(MLBvsRHP['TEAM'], MLBvsRHP['RunRatio'], color='k', label='AVG Runs per Hit')\n",
    "plt.legend(fontsize='x-large');"
   ]
  },
  {
   "cell_type": "markdown",
   "metadata": {
    "slideshow": {
     "slide_type": "fragment"
    }
   },
   "source": [
    "#### We see that 13 teams hit above the league average of runs per hit, while 11 hit *well* over the league average."
   ]
  },
  {
   "cell_type": "markdown",
   "metadata": {
    "slideshow": {
     "slide_type": "slide"
    }
   },
   "source": [
    "#### Taking all that into consideration we conclude that against LHP:"
   ]
  },
  {
   "cell_type": "markdown",
   "metadata": {
    "slideshow": {
     "slide_type": "fragment"
    }
   },
   "source": [
    "-  14 teams hit over the league average"
   ]
  },
  {
   "cell_type": "markdown",
   "metadata": {
    "slideshow": {
     "slide_type": "fragment"
    }
   },
   "source": [
    "-  8 of which hit **well** over the average"
   ]
  },
  {
   "cell_type": "markdown",
   "metadata": {
    "slideshow": {
     "slide_type": "fragment"
    }
   },
   "source": [
    "#### In comparitive to RHP:"
   ]
  },
  {
   "cell_type": "markdown",
   "metadata": {
    "slideshow": {
     "slide_type": "fragment"
    }
   },
   "source": [
    "-  13 teams hit over the league average"
   ]
  },
  {
   "cell_type": "markdown",
   "metadata": {
    "slideshow": {
     "slide_type": "fragment"
    }
   },
   "source": [
    "-  11 of which hit **well** over the average"
   ]
  },
  {
   "cell_type": "markdown",
   "metadata": {
    "slideshow": {
     "slide_type": "slide"
    }
   },
   "source": [
    "#### Below we can actually see the data in a side by side comparison"
   ]
  },
  {
   "cell_type": "code",
   "execution_count": 17,
   "metadata": {
    "scrolled": false,
    "slideshow": {
     "slide_type": "fragment"
    }
   },
   "outputs": [
    {
     "data": {
      "image/png": "[encoded data removed]",
      "text/plain": [
       "<matplotlib.figure.Figure at 0x7f1abefa4d30>"
      ]
     },
     "metadata": {},
     "output_type": "display_data"
    }
   ],
   "source": [
    "conn = sqlite3.connect(\"MLB_Data.db\")\n",
    "cur = conn.cursor()\n",
    "#-------------------------------------#\n",
    "plt.figure(figsize=(40, 10))\n",
    "ax = plt.subplot()\n",
    "N = 30\n",
    "w = 0.3\n",
    "\n",
    "ind = np.arange(N)\n",
    "\n",
    "LHP = ax.bar(ind, MLBvsLHP['RunRatio'], w, color='r', label=\"Run Ratio against LHP\")\n",
    "RHP = ax.bar(ind + w, MLBvsRHP['RunRatio'], w, color='k', label=\"Run Ratio against RHP\")\n",
    "\n",
    "ax.set_xticks(ind + w / 2)\n",
    "ax.set_xticklabels(MLBvsRHP['TEAM'])\n",
    "plt.title('MLB Run Ratio against LHP and RHP')\n",
    "plt.legend(fontsize='x-large')\n",
    "plt.show();"
   ]
  },
  {
   "cell_type": "markdown",
   "metadata": {
    "slideshow": {
     "slide_type": "slide"
    }
   },
   "source": [
    "#### With all that I have gathered so far, it is still inconclusive if the theory is true. There is only a one or two team difference between teams averages vs the leagues average against each pitcher.  And while they are leaning more in favor of LHP, it is not by much. "
   ]
  },
  {
   "cell_type": "markdown",
   "metadata": {
    "slideshow": {
     "slide_type": "slide"
    }
   },
   "source": [
    "#### The last thing to do is to take all the data and see which pitcher gives up the most runs.  This data will even out the playing field.  This is taking the amount of AB that each pitcher has faced, and then divided that by the amount of runs that they have given up.  Using that data we get the chart below."
   ]
  },
  {
   "cell_type": "code",
   "execution_count": 18,
   "metadata": {
    "slideshow": {
     "slide_type": "fragment"
    }
   },
   "outputs": [
    {
     "data": {
      "image/png": "[encoded data removed]",
      "text/plain": [
       "<matplotlib.figure.Figure at 0x7f1abc1fe940>"
      ]
     },
     "metadata": {},
     "output_type": "display_data"
    }
   ],
   "source": [
    "conn = sqlite3.connect(\"MLB_Data.db\")\n",
    "cur = conn.cursor()\n",
    "#-------------------------------------------------------------#\n",
    "sqlAvgLHP = \"\"\"SELECT AB/(1.0*R) AS 'AB/R' FROM LHP_RvsAB\"\"\"\n",
    "avgLHP = pd.read_sql_query(sqlAvgLHP, conn)\n",
    "#-------------------------------------------------------------#\n",
    "sqlAvgRHP = \"\"\"SELECT AB/(1.0*R) AS 'AB/R' FROM RHP_RvsAB\"\"\"\n",
    "avgRHP = pd.read_sql_query(sqlAvgRHP, conn)\n",
    "#-------------------------------------------------------------#\n",
    "plt.figure(figsize=(20, 9))\n",
    "ax = plt.subplot()\n",
    "N = 1\n",
    "w = .3\n",
    "\n",
    "ind = np.arange(N)\n",
    "\n",
    "LHP = ax.bar(ind, avgLHP['AB/R'], w, color='r', label='Runs against LHP')\n",
    "RHP = ax.bar(ind + w*1.05, avgRHP['AB/R'], w, color='k', label='Runs against RHP')\n",
    "ax.set_xticks(ind + w / 1.90)\n",
    "ax.set_xticklabels(('R'))\n",
    "ax.legend(loc=1)\n",
    "\n",
    "plt.title('AVG Runs Scored Against LHP and RHP')\n",
    "plt.show();"
   ]
  },
  {
   "cell_type": "markdown",
   "metadata": {
    "slideshow": {
     "slide_type": "fragment"
    }
   },
   "source": [
    "#### As we can see, while even though the numbers are close, it is still clear that the LHP gives up more runs than that of the RHP. "
   ]
  },
  {
   "cell_type": "markdown",
   "metadata": {
    "slideshow": {
     "slide_type": "slide"
    }
   },
   "source": [
    "## So to recap:"
   ]
  },
  {
   "cell_type": "markdown",
   "metadata": {
    "slideshow": {
     "slide_type": "fragment"
    }
   },
   "source": [
    "### When it comes to actual batting averages:"
   ]
  },
  {
   "cell_type": "markdown",
   "metadata": {
    "slideshow": {
     "slide_type": "fragment"
    }
   },
   "source": [
    "- More teams hit a higher batting average against RHP, however; more teams hit well over the league average against LHP."
   ]
  },
  {
   "cell_type": "markdown",
   "metadata": {
    "slideshow": {
     "slide_type": "fragment"
    }
   },
   "source": [
    "### When it comes to runs scored per hit:"
   ]
  },
  {
   "cell_type": "markdown",
   "metadata": {
    "slideshow": {
     "slide_type": "fragment"
    }
   },
   "source": [
    "- More teams scored more runs per hit against LHP, however; more teams hit well over the league average against RHP."
   ]
  },
  {
   "cell_type": "markdown",
   "metadata": {
    "slideshow": {
     "slide_type": "fragment"
    }
   },
   "source": [
    "### When it comes to total runs scored per at bat:"
   ]
  },
  {
   "cell_type": "markdown",
   "metadata": {
    "slideshow": {
     "slide_type": "fragment"
    }
   },
   "source": [
    "- A LHP gave up more runs per at bat than the RHP."
   ]
  },
  {
   "cell_type": "markdown",
   "metadata": {
    "slideshow": {
     "slide_type": "slide"
    }
   },
   "source": [
    "# Our Conclusion......."
   ]
  },
  {
   "cell_type": "markdown",
   "metadata": {
    "slideshow": {
     "slide_type": "slide"
    }
   },
   "source": [
    "<table><tr><td><img src='img/false.jpg' width=75%, height=75% ></td><td></table>\n"
   ]
  },
  {
   "cell_type": "markdown",
   "metadata": {
    "slideshow": {
     "slide_type": "fragment"
    }
   },
   "source": [
    "### A LHP is not better than a RHP.  If anything, batters are becoming more able to switch hit (hit from both sides of the plate), and are able to negate the effects."
   ]
  },
  {
   "cell_type": "code",
   "execution_count": null,
   "metadata": {},
   "outputs": [],
   "source": []
  }
 ],
 "metadata": {
  "celltoolbar": "Slideshow",
  "kernelspec": {
   "display_name": "Python 3",
   "language": "python",
   "name": "python3"
  },
  "language_info": {
   "codemirror_mode": {
    "name": "ipython",
    "version": 3
   },
   "file_extension": ".py",
   "mimetype": "text/x-python",
   "name": "python",
   "nbconvert_exporter": "python",
   "pygments_lexer": "ipython3",
   "version": "3.6.4"
  }
 },
 "nbformat": 4,
 "nbformat_minor": 2
}
